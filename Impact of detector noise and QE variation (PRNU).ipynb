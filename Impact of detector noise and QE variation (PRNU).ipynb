{
 "cells": [
  {
   "cell_type": "markdown",
   "metadata": {},
   "source": [
    "#### Model the impact of variations in pixel-to-pixel sensitivity on centroiding accuracy for a DeMi Shack Hartmann Sensor lenslet.\n",
    "\n",
    "MT9P031 Testing for PRNU and radiation impact:\n",
    "\n",
    "Becker, Heidi N., Michael D. Dolphin, Dennis O. Thorbourn, James W. Alexander, and Phil M. Salomon. Commercial Sensory Survey Radiation Testing Progress Report. Pasadena, CA: Jet Propulsion Laboratory, National Aeronautics and Space Administration, 2008.\n",
    "    https://trs.jpl.nasa.gov/bitstream/handle/2014/40825/08-22.pdf?sequence=1\n",
    "    \n",
    "WFPC2 CCD:\n",
    "Trauger, John T., Gilda E. Ballester, Christopher J. Burrows, Stefano Casertano, John T. Clarke, David Crisp, Robin W. Evans, et al. “The on-Orbit Performance of WFPC2.” The Astrophysical Journal Letters 435 (November 1, 1994): L3–6. doi:10.1086/187580.\n",
    "\n",
    "\n"
   ]
  },
  {
   "cell_type": "code",
   "execution_count": 2,
   "metadata": {},
   "outputs": [
    {
     "name": "stderr",
     "output_type": "stream",
     "text": [
      "/Users/edouglas/anaconda/lib/python3.5/site-packages/pysynphot/locations.py:46: UserWarning: PYSYN_CDBS is undefined; functionality will be SEVERELY crippled.\n",
      "  warnings.warn(\"PYSYN_CDBS is undefined; functionality will be SEVERELY \"\n",
      "/Users/edouglas/anaconda/lib/python3.5/site-packages/pysynphot/locations.py:329: UserWarning: Extinction files not found in extinction\n",
      "  warnings.warn('Extinction files not found in %s' % (extdir, ))\n"
     ]
    },
    {
     "ename": "ImportError",
     "evalue": "bad magic number in 'poppy.sub_sampled_optics': b'\\x03\\xf3\\r\\n'",
     "output_type": "error",
     "traceback": [
      "\u001b[0;31m--------------------------------------------------------------------\u001b[0m",
      "\u001b[0;31mImportError\u001b[0m                        Traceback (most recent call last)",
      "\u001b[0;32m<ipython-input-2-01db2f635c24>\u001b[0m in \u001b[0;36m<module>\u001b[0;34m()\u001b[0m\n\u001b[1;32m      9\u001b[0m \u001b[0;34m\u001b[0m\u001b[0m\n\u001b[1;32m     10\u001b[0m \u001b[0;32mimport\u001b[0m \u001b[0mastropy\u001b[0m\u001b[0;34m.\u001b[0m\u001b[0munits\u001b[0m \u001b[0;32mas\u001b[0m \u001b[0mu\u001b[0m\u001b[0;34m\u001b[0m\u001b[0m\n\u001b[0;32m---> 11\u001b[0;31m \u001b[0;32mfrom\u001b[0m \u001b[0mpoppy\u001b[0m\u001b[0;34m.\u001b[0m\u001b[0msub_sampled_optics\u001b[0m \u001b[0;32mimport\u001b[0m \u001b[0msubapertures\u001b[0m\u001b[0;34m\u001b[0m\u001b[0m\n\u001b[0m\u001b[1;32m     12\u001b[0m \u001b[0;32mfrom\u001b[0m \u001b[0mmatplotlib\u001b[0m\u001b[0;34m.\u001b[0m\u001b[0mcolors\u001b[0m \u001b[0;32mimport\u001b[0m \u001b[0mLogNorm\u001b[0m\u001b[0;34m\u001b[0m\u001b[0m\n\u001b[1;32m     13\u001b[0m \u001b[0;32mimport\u001b[0m \u001b[0mscipy\u001b[0m\u001b[0;34m.\u001b[0m\u001b[0mndimage\u001b[0m\u001b[0;34m.\u001b[0m\u001b[0mmeasurements\u001b[0m \u001b[0;32mas\u001b[0m \u001b[0mmeas\u001b[0m\u001b[0;34m\u001b[0m\u001b[0m\n",
      "\u001b[0;31mImportError\u001b[0m: bad magic number in 'poppy.sub_sampled_optics': b'\\x03\\xf3\\r\\n'"
     ]
    }
   ],
   "source": [
    "import numpy as np\n",
    "%matplotlib inline\n",
    "import matplotlib.pyplot as plt\n",
    "import poppy\n",
    "from DeMiOpticTools import resample_PSF #flux conserving PSF downsampling\n",
    "\n",
    "import importlib\n",
    "import DeMiOpticTools\n",
    "\n",
    "import astropy.units as u\n",
    "from poppy.sub_sampled_optics import subapertures\n",
    "from matplotlib.colors import LogNorm\n",
    "import scipy.ndimage.measurements as meas\n",
    "\n",
    "\n",
    "import importlib\n",
    "importlib.reload(poppy)\n",
    "\n",
    "import logging\n",
    "logging.basicConfig(format='%(levelname)s:%(message)s', level=logging.DEBUG)"
   ]
  },
  {
   "cell_type": "markdown",
   "metadata": {},
   "source": [
    "setup case of multi DM using the SH design in A. Marinan's `AO_Spacecraft_Requirements_v10.xlsx` where 0.016 pix centroiding error.\n",
    "\n"
   ]
  },
  {
   "cell_type": "code",
   "execution_count": null,
   "metadata": {},
   "outputs": [],
   "source": [
    "fl_primary=100*u.mm\n",
    "fl_coll=15*u.mm\n",
    "dm_size = 4.95*u.mm\n",
    "wavel = 635*u.nm\n",
    "\n",
    "m = fl_primary/fl_coll\n",
    "\n",
    "pixel_size = 2.2*u.um/u.pix\n",
    "lenslet_pitch = 150*u.um\n",
    "r_lenslet = lenslet_pitch/2.\n",
    "lenslet_focal_length = 3.7*u.mm #\n",
    "plate_scale =1.0*u.rad/lenslet_focal_length*m\n",
    "rad_pix = (plate_scale*pixel_size)\n",
    "diff_lim = 1.22*wavel/(2*r_lenslet)*u.radian*m\n",
    "#calculate plate scale:\n",
    "print(\"calculated plate scale: \"+str(rad_pix.to(u.arcsecond/u.pix)))\n",
    "print(\"diff limit: \"+str(diff_lim.to(u.arcsec)))\n",
    "print(\" pixels/PSF: \"+str((diff_lim/rad_pix).to(u.pix)))"
   ]
  },
  {
   "cell_type": "code",
   "execution_count": null,
   "metadata": {},
   "outputs": [],
   "source": [
    "(diff_lim*lenslet_focal_length /pixel_size).decompose()#to(u.m*u.rad)\n",
    "\n",
    "\n"
   ]
  },
  {
   "cell_type": "code",
   "execution_count": null,
   "metadata": {},
   "outputs": [],
   "source": [
    "rad_pix.to(u.arcsecond/u.pixel)"
   ]
  },
  {
   "cell_type": "code",
   "execution_count": null,
   "metadata": {},
   "outputs": [],
   "source": [
    "osys = poppy.OpticalSystem(oversample=10)\n",
    "osys.add_pupil(poppy.CircularAperture(radius=lenslet_pitch.to(u.m).value/2.))\n",
    "osys.add_detector(rad_pix.to(u.arcsec/u.pix), fov_pixels=16,oversample=8)\n",
    "single_psf=osys.calc_psf()\n",
    "\n",
    "\n",
    "\n",
    "plt.figure()\n",
    "poppy.utils.display_psf(single_psf,interpolation='nearest')#,imagecrop=1000)\n",
    "\n",
    "plt.figure()\n",
    "poppy.display_PSF(resample_PSF(single_psf),interpolation='nearest')#,imagecrop=1000)\n",
    "single_psf=resample_PSF(single_psf)"
   ]
  },
  {
   "cell_type": "code",
   "execution_count": null,
   "metadata": {},
   "outputs": [],
   "source": [
    "#generate a realistitic QE map:\n",
    "QE_map = np.random.normal(1, 0.02, single_psf[0].data.shape)\n",
    "plt.imshow(QE_map,interpolation='nearest')\n",
    "plt.colorbar()\n",
    "\n"
   ]
  },
  {
   "cell_type": "markdown",
   "metadata": {},
   "source": []
  },
  {
   "cell_type": "code",
   "execution_count": null,
   "metadata": {},
   "outputs": [],
   "source": [
    "import astropy.io.fits as fits\n",
    "single_psf[0].header[\"PIXSCALE\"]=1\n",
    "#noiseless_cen=np.array(poppy.utils.measure_centroid(single_psf))\n",
    "noiseless_cen_cm=np.array(meas.center_of_mass(single_psf[0].data))\n",
    "#print(noiseless_cen_cm-noiseless_cen)\n",
    "def RSS(array):\n",
    "    return np.sqrt(np.sum(array**2))\n",
    "sigma_QE_range=np.arange(0.005,0.08,0.01)\n",
    "ax=plt.subplot(111)\n",
    "for run in range(10):\n",
    "    centroid_err=np.zeros(sigma_QE_range.size)\n",
    "    centroid_err_cm=np.zeros(sigma_QE_range.size)\n",
    "\n",
    "\n",
    "    for i,sigma_QE in enumerate(sigma_QE_range):\n",
    "        QE_map = np.random.normal(1, sigma_QE, single_psf[0].data.shape)\n",
    "        laser_electrons=2489210820.49 #electrons/second? CHECK\n",
    "        PSF_electrons = single_psf[0].data*laser_electrons/single_psf[0].data.sum()\n",
    "        psf_QE = fits.HDUList([fits.PrimaryHDU(QE_map*PSF_electrons)])\n",
    "        psf_QE[0].header[\"PIXSCALE\"]=1\n",
    "        \n",
    "        #centroid_err[i]=RSS(noiseless_cen-np.array(poppy.utils.measure_centroid(psf_QE)))\n",
    "    \n",
    "        centroid_err_cm[i] = RSS(noiseless_cen_cm-np.array(meas.center_of_mass(psf_QE[0].data)))\n",
    "\n",
    "    #plt.plot(sigma_QE_range,centroid_err)\n",
    "    plt.plot(sigma_QE_range,centroid_err_cm,'--')\n",
    "plt.plot([0.01,0.01],[0,2],label=\"WFPC2 QE stability\",linewidth=2)\n",
    "\n",
    "plt.plot([0.01,0.015],[0,2],\n",
    "         label=\"MT9P031 PRNU\",linewidth=2)\n",
    "plt.plot([0.01,0.027],[0,2],\n",
    "         label=\"MT9P031 PRNU -1 krad\",linewidth=3)\n",
    "plt.plot([0.01,0.045],[0,2],\n",
    "         label=\"MT9P031 PRNU -5 krad\",linewidth=4)\n",
    "\n",
    "plt.grid(True)\n",
    "\n",
    "\n",
    "\n",
    "plt.ylim([1e-3,1])\n",
    "plt.xlabel(\"$\\sigma_{QE}$\")\n",
    "plt.yscale(\"log\")\n",
    "\n",
    "plt.ylabel(\"centroid error [pix]\")\n",
    "plt.legend(loc=\"upper left\")"
   ]
  },
  {
   "cell_type": "code",
   "execution_count": null,
   "metadata": {},
   "outputs": [],
   "source": [
    "import astropy.io.fits as fits\n",
    "plt.figure(figsize=[5,4])\n",
    "single_psf[0].header[\"PIXSCALE\"]=1\n",
    "#noiseless_cen=np.array(poppy.utils.measure_centroid(single_psf))\n",
    "noiseless_cen_cm=np.array(meas.center_of_mass(single_psf[0].data))\n",
    "#print(noiseless_cen_cm-noiseless_cen)\n",
    "def RSS(array):\n",
    "    return np.sqrt(np.sum(array**2))\n",
    "sigma_QE_range=np.arange(0.001,.1,0.005)\n",
    "ax=plt.subplot(111)\n",
    "for run in range(100):\n",
    "    centroid_err=np.zeros(sigma_QE_range.size)\n",
    "    centroid_err_cm=np.zeros(sigma_QE_range.size)\n",
    "\n",
    "\n",
    "    for i,sigma_QE in enumerate(sigma_QE_range):\n",
    "        QE_map = np.random.normal(1, sigma_QE, single_psf[0].data.shape)\n",
    "        laser_electrons=2489210820.49 #electrons/second? CHECK\n",
    "        PSF_electrons = single_psf[0].data*laser_electrons/single_psf[0].data.sum()\n",
    "        psf_QE = fits.HDUList([fits.PrimaryHDU(QE_map*PSF_electrons)])\n",
    "        psf_QE[0].header[\"PIXSCALE\"]=1\n",
    "        \n",
    "        #centroid_err[i]=RSS(noiseless_cen-np.array(poppy.utils.measure_centroid(psf_QE)))\n",
    "    \n",
    "        centroid_err_cm[i] = RSS(noiseless_cen_cm-np.array(meas.center_of_mass(psf_QE[0].data)))\n",
    "\n",
    "    #plt.plot(sigma_QE_range,centroid_err)\n",
    "    plt.plot(sigma_QE_range,centroid_err_cm,alpha=.25)\n",
    "#plt.plot([0.01,0.01],[0,2],label=\"WFPC2 QE stability\",linewidth=2)\n",
    "\n",
    "plt.plot([0.01,0.0151],[0,2],'--',\n",
    "         label=\"MT9P031 PRNU\",linewidth=1)\n",
    "plt.plot([0.01,0.021],[0,2],'-.',\n",
    "         label=\"MT9P031 PRNU 0.5 krad(Si)\",linewidth=2)\n",
    "plt.plot([0.01,0.027],[0,2],'--',\n",
    "         label=\"MT9P031 PRNU 1 krad(Si)\",linewidth=3)\n",
    "plt.plot([0.01,0.045],[0,2],'--',\n",
    "         label=\"MT9P031 PRNU 5 krad(Si)\",linewidth=4)\n",
    "requirement=(10*u.nm*lenslet_focal_length/lenslet_pitch/pixel_size).decompose()\n",
    "\n",
    "plt.grid(True)\n",
    "\n",
    "def tick_function(Y):\n",
    "    #https://stackoverflow.com/questions/10514315/how-to-add-a-second-x-axis-in-matplotlib\n",
    "    V =(Y*u.pix/(lenslet_focal_length/lenslet_pitch/pixel_size)).to(u.nm).value\n",
    "    return [\"%.e\" % z for z in V]\n",
    "\n",
    "\n",
    "plt.ylim([1e-4,1])\n",
    "plt.xlabel(\"$\\sigma_{QE}$\")\n",
    "plt.yscale(\"log\")\n",
    "\n",
    "plt.ylabel(\"centroid error [pix]\")\n",
    "plt.legend(loc=\"upper right\")\n",
    "ax2=ax.twinx()\n",
    "ax2.set_yticklabels(tick_function(ax.get_yticks()))\n",
    "#https://stackoverflow.com/questions/44080894/matplotlib-tick-get-loc-always-returns-zero#44084174\n",
    "ax2.set_ylabel(\"Wavefront Tilt [nm/lenslet]\")\n",
    "\n",
    "plt.savefig(\"PRNU_centroid_error.pdf\",bbox_inches=\"tight\")"
   ]
  },
  {
   "cell_type": "code",
   "execution_count": null,
   "metadata": {},
   "outputs": [],
   "source": [
    "(10*u.nm*lenslet_focal_length/lenslet_pitch/pixel_size).decompose()#.to(u.m)\n"
   ]
  },
  {
   "cell_type": "markdown",
   "metadata": {
    "collapsed": true
   },
   "source": [
    "Annie's spreadsheet calls for 0.016-0.036 pixel centroiding, the former is challenging and the latter is doable if flat field error is the only source of centroid error.\n",
    "\n",
    "Conclusions:\n",
    "* the impact of interpixel QE variation above a percent is non-neglible at the required wavefront centroiding precisions\n",
    "* radiation shielding matters \n",
    "* detector flat fielding in flight would be useful \n",
    "* the result doesnt appear very sensitive to PSF size\n"
   ]
  },
  {
   "cell_type": "markdown",
   "metadata": {},
   "source": [
    "## Add detector noise and calculate for star and laser"
   ]
  },
  {
   "cell_type": "code",
   "execution_count": null,
   "metadata": {},
   "outputs": [],
   "source": [
    "DarkCurrent_aptina=25#*u.electron/u.second #http://www.mouser.com/ds/2/308/LimitedDataSheet_MT9P031_5100_PB.book-553282.pdf\n",
    "RN_aptina = 2.5#*u.electron #http://digitalcommons.usu.edu/cgi/viewcontent.cgi?article=1162&context=smallsat\n",
    "t_exp=1/12.#*u.second\n",
    "second_mag_star=70/t_exp#.1876429374  #electrons/sec\n",
    "plt.figure(figsize=[7,3])\n",
    "plt.subplot(121)\n",
    "importlib.reload(DeMiOpticTools)\n",
    "PSF_electrons = single_psf[0].data*second_mag_star/single_psf[0].data.sum()\n",
    "PSF_electrons_HDU= fits.HDUList([fits.PrimaryHDU(PSF_electrons,\n",
    "                                                 header=single_psf[0].header)])\n",
    "#electrons/s from 2 mag star\n",
    "\n",
    "noisyPSF=[DeMiOpticTools.simulate_noise(PSF_electrons_HDU,\n",
    "                                       n_exp=1,\n",
    "                                       dark_noise_rate=DarkCurrent_aptina,\n",
    "                                       read_noise=RN_aptina,\n",
    "                                       t_exp=one*t_exp) for one in np.ones(1000)] \n",
    "plt.imshow(noisyPSF[0][0].data,interpolation='none',cmap='plasma')\n",
    "plt.colorbar()\n",
    "\n",
    "star_deltaCM= [RSS(noiseless_cen_cm-np.array(meas.center_of_mass(psf[0].data))) for psf in noisyPSF]\n",
    "star_delta_nm=(np.sin((star_deltaCM*u.pix*pixel_size*plate_scale/m))*lenslet_pitch).to(u.nm)\n",
    "\n",
    "plt.subplot(122)\n",
    "plt.hist(star_delta_nm,bins='auto')\n",
    "plt.xscale(\"log\")\n",
    "plt.title(\"median\\n\"+str(np.round(np.median(star_delta_nm))))#,star_delta_nm.std()"
   ]
  },
  {
   "cell_type": "code",
   "execution_count": null,
   "metadata": {},
   "outputs": [],
   "source": [
    "plate_scale/m"
   ]
  },
  {
   "cell_type": "code",
   "execution_count": null,
   "metadata": {},
   "outputs": [],
   "source": [
    "948*10**(+.02/2.5)"
   ]
  },
  {
   "cell_type": "code",
   "execution_count": null,
   "metadata": {},
   "outputs": [],
   "source": [
    "laser_electrons=2489210820.49 #electrons/second? CHECK\n",
    "importlib.reload(DeMiOpticTools)\n",
    "PSF_electrons = single_psf[0].data*laser_electrons/single_psf[0].data.sum()\n",
    "PSF_electrons_HDU= fits.HDUList([fits.PrimaryHDU(PSF_electrons,header=single_psf[0].header)])\n",
    "#electrons/s from 2 mag star\n",
    "\n",
    "noisyPSF=DeMiOpticTools.simulate_noise(PSF_electrons_HDU,\n",
    "                                       n_exp=1,\n",
    "                                       dark_noise_rate=25,\n",
    "                                       read_noise=2.5,\n",
    "                                       t_exp=1.)\n",
    "plt.imshow(noisyPSF[0].data)\n",
    "plt.colorbar()\n",
    "\n",
    "\n",
    "laser_deltaCM= RSS(noiseless_cen_cm-np.array(meas.center_of_mass(noisyPSF[0].data)))\n",
    "\n",
    "star_deltaCM= RSS(noiseless_cen_cm-np.array(meas.center_of_mass(noisyPSF[0].data)))\n",
    "(np.sin((star_deltaCM*u.pix*pixel_size*plate_scale))*lenslet_pitch).to(u.nm)\n"
   ]
  },
  {
   "cell_type": "markdown",
   "metadata": {},
   "source": []
  },
  {
   "cell_type": "code",
   "execution_count": null,
   "metadata": {},
   "outputs": [],
   "source": [
    "print(len(sigma_QE_range))"
   ]
  },
  {
   "cell_type": "code",
   "execution_count": null,
   "metadata": {},
   "outputs": [],
   "source": []
  },
  {
   "cell_type": "code",
   "execution_count": null,
   "metadata": {},
   "outputs": [],
   "source": []
  }
 ],
 "metadata": {
  "anaconda-cloud": {},
  "kernelspec": {
   "display_name": "Python [conda root]",
   "language": "python",
   "name": "conda-root-py"
  },
  "language_info": {
   "codemirror_mode": {
    "name": "ipython",
    "version": 3
   },
   "file_extension": ".py",
   "mimetype": "text/x-python",
   "name": "python",
   "nbconvert_exporter": "python",
   "pygments_lexer": "ipython3",
   "version": "3.5.6"
  }
 },
 "nbformat": 4,
 "nbformat_minor": 1
}
